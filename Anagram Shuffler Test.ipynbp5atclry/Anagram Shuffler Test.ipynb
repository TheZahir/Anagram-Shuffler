{
 "cells": [
  {
   "cell_type": "code",
   "execution_count": 19,
   "metadata": {
    "collapsed": false
   },
   "outputs": [],
   "source": [
    "run Anagram_Shuffler"
   ]
  },
  {
   "cell_type": "code",
   "execution_count": 65,
   "metadata": {
    "collapsed": false
   },
   "outputs": [],
   "source": [
    "import csv\n",
    "import itertools\n",
    "from itertools import chain\n",
    "DIR = 'D:\\Program Files\\Dropbox\\Projects\\Anagram Shuffler\\EWOL\\CSV Format\\\\'\n",
    "\n",
    "alpha = []\n",
    "while alpha > 0:\n",
    "openfile = csv.reader(open(DIR + 'B Words.csv', 'r', encoding=\"utf8\"))\n",
    "#openfile = open(DIR + 'B Words.txt', 'r').read()\n",
    "\n",
    "Words = list(itertools.chain.from_iterable(openfile))\n",
    "#Words = list(openfile)\n",
    "\n",
    "f = open('D:\\Program Files\\Dropbox\\Projects\\Anagram Shuffler\\word_list.txt', 'w', encoding=\"utf8\")\n",
    "\n",
    "f.write('\\n')\n",
    "\n",
    "count = 0\n",
    "\n",
    "for item in Words:\n",
    "    f.write('%s, ' % item)\n",
    "    count += 1\n",
    "    if count == 10:\n",
    "        f.write('\\n')\n",
    "        count = 0"
   ]
  },
  {
   "cell_type": "code",
   "execution_count": 68,
   "metadata": {
    "collapsed": false
   },
   "outputs": [
    {
     "name": "stdout",
     "output_type": "stream",
     "text": [
      "['a', 'b', 'c', 'd', 'e', 'f', 'g', 'h', 'i', 'j', 'k', 'l', 'm', 'n', 'o', 'p', 'q', 'r', 's', 't', 'u', 'v', 'w', 'x', 'y', 'z']\n"
     ]
    }
   ],
   "source": [
    "alpha = list('a b c d e f g h i j k l m n o p q r s t u v w x y z'.split())\n",
    "\n",
    "print(alpha)"
   ]
  },
  {
   "cell_type": "code",
   "execution_count": 18,
   "metadata": {
    "collapsed": false
   },
   "outputs": [
    {
     "name": "stdout",
     "output_type": "stream",
     "text": [
      "Resizing to font 15\n",
      "Resizing to font 19\n"
     ]
    }
   ],
   "source": [
    "run resizer"
   ]
  },
  {
   "cell_type": "code",
   "execution_count": 16,
   "metadata": {
    "collapsed": true
   },
   "outputs": [],
   "source": [
    "#\n",
    "\n",
    "from tkinter import *\n",
    "from tkinter import ttk\n",
    "import random\n",
    "\n",
    "letter_distribution = ['a','a','a','a','a','a','a','a',\n",
    "                       'b','b',\n",
    "\t\t\t\t\t   'c','c','c',\n",
    "\t\t\t\t\t   'd','d','d','d',\n",
    "\t\t\t\t\t   'e','e','e','e','e','e','e','e','e','e','e','e','e',\n",
    "\t\t\t\t\t   'f','f',\n",
    "\t\t\t\t\t   'g','g',\n",
    "\t\t\t\t\t   'h','h','h','h','h','h',\n",
    "\t\t\t\t\t   'i','i','i','i','i','i','i',\n",
    "\t\t\t\t\t   'j',\n",
    "\t\t\t\t\t   'k',\n",
    "\t\t\t\t\t   'l','l','l','l',\n",
    "\t\t\t\t\t   'm','m','m',\n",
    "\t\t\t\t\t   'n','n','n','n','n','n','n',\n",
    "\t\t\t\t\t   'o','o','o','o','o','o','o','o',\n",
    "\t\t\t\t\t   'p','p',\n",
    "\t\t\t\t\t   'q',\n",
    "\t\t\t\t\t   'r','r','r','r','r','r',\n",
    "\t\t\t\t\t   's','s','s','s','s','s',\n",
    "\t\t\t\t\t   't','t','t','t','t','t','t','t','t',\n",
    "\t\t\t\t\t   'u','u','u',\n",
    "\t\t\t\t\t   'v',\n",
    "\t\t\t\t\t   'w','w','w',\n",
    "\t\t\t\t\t   'x',\n",
    "\t\t\t\t\t   'y','y',\n",
    "\t\t\t\t\t   'z']\n",
    "\n",
    "class Anagram_Shuffler_App:\n",
    "\n",
    "\tdef __init__(self, master):\n",
    "\t\t\n",
    "\t\tmaster.columnconfigure(0, weight=1)\t\t\n",
    "\t\tmaster.rowconfigure(0, weight=1)\n",
    "\t\t\n",
    "\t\tcontent = ttk.Frame(master, padding=(3,3,12,12))\n",
    "\t\tcontent.grid(column=0, row=0, sticky=(N,S,E,W))\n",
    "\t\tcontent.columnconfigure(0, weight=1)\n",
    "\t\tcontent.rowconfigure(0, weight=1)\n",
    "\t\tframe = ttk.Frame(content)\n",
    "\t\tframe.grid(column=0, row=0, sticky=(N,S,E,W))\n",
    "\t\tframe.columnconfigure(0, weight=1)\n",
    "\t\tframe.columnconfigure(1, weight=1)\n",
    "\t\tframe.rowconfigure(0, weight=1)\n",
    "\t\t\n",
    "\t\tself.n = ttk.Notebook(frame)\n",
    "\t\tself.f1 = ttk.Frame(self.n)\n",
    "\t\tself.f2 = ttk.Frame(self.n)\n",
    "\t\tself.n.add(self.f1, text='Options')\n",
    "\t\tself.n.add(self.f2, text='Shuffled Letters')\n",
    "\t\tself.n.grid(column=0, row=0, columnspan=2, pady=5, padx=5, sticky=(NSEW))\n",
    "\t\tself.f1.columnconfigure(0, weight=0)\n",
    "\t\tself.f1.columnconfigure(1, weight=0)\n",
    "\t\tself.f1.columnconfigure(2, weight=1)\n",
    "\t\tself.f1.columnconfigure(3, weight=1)\n",
    "\t\tself.f1.rowconfigure(0, weight=1)\n",
    "\t\tself.f1.rowconfigure(1, weight=0)\n",
    "\t\tself.f2.columnconfigure(0, weight=1)\n",
    "\t\tself.f2.rowconfigure(0, weight=1)\n",
    "\t\t\n",
    "\t\tself.shuffler = Button(\n",
    "\t\t\tframe, text='Shuffle!', bg='green', fg='white', \n",
    "\t\t\tcommand=self.shuffle_letters\n",
    "\t\t\t)\n",
    "\t\tself.shuffler.grid(column=0, row=1, pady=5, padx=5, sticky=(W,E))\n",
    "\t\tself.shuffler.columnconfigure(0, weight=1)\n",
    "\t\tself.shuffler.rowconfigure(0, weight=1)\n",
    "\t\t\n",
    "\t\tself.quit = Button(\n",
    "\t\t\tframe, text='QUIT', fg='red', command=frame.quit\n",
    "\t\t\t)\n",
    "\t\tself.quit.grid(column=1, row=1, pady=5, padx=5, sticky=(W,E))\n",
    "\t\tself.quit.columnconfigure(0, weight=1)\n",
    "\t\tself.quit.rowconfigure(0, weight=1)\n",
    "\t\t\n",
    "\t\t#self.greeting = Label(self.f1, text='Anagram Shuffler randomly selects a number of letters based roughly\\non the normal frequency distribution of letters within English.')\n",
    "\t\t#self.greeting.grid(column=0, row=0, columnspan=4, pady=5, padx=5)\n",
    "\t\t\n",
    "\t\tself.count_label = ttk.Label(self.f1, justify=CENTER, text='Shuffle between 0-20 letters!\\n(If 0, a random amount of\\nletters will be shuffled.)')\n",
    "\t\tself.count_label.grid(column=0, row=0, pady=5, padx=5, sticky=(S))\n",
    "\t\t\n",
    "\t\tself.count = IntVar()\n",
    "\t\tself.c = ttk.Entry(self.f1, width=2, justify=CENTER, textvariable=self.count)\n",
    "\t\tself.c.grid(column=0, row=1, pady=5, padx=5, sticky=(N))\n",
    "\t\t\n",
    "\t\tself.count.set(0)\n",
    "\t\t\n",
    "\t\t#self.caps_label = ttk.Label(options_frame, justify=CENTER, text='To display text in all capitals,\\ncheck this box:')\n",
    "\t\t#self.caps_label.grid(column=2, row=1, pady=5, padx=5)\n",
    "\t\t\n",
    "\t\toptions_frame = ttk.Labelframe(self.f1, text='Options:')\n",
    "\t\toptions_frame.grid(column=1, row=0, rowspan=3, sticky=(S))\n",
    "\t\t\n",
    "\t\tself.check_caps = BooleanVar()\n",
    "\t\tself.caps_checkbox = ttk.Checkbutton(\n",
    "\t\t\toptions_frame, text='ALL CAPS', variable=self.check_caps\n",
    "\t\t\t)\n",
    "\t\tself.caps_checkbox.grid(column=2, row=2, pady=5, padx=5, sticky=(W))\n",
    "\t\tself.check_caps.set(TRUE)\n",
    "\t\t\n",
    "\t\tself.check_alphabetize = BooleanVar()\n",
    "\t\tself.alphabetize_checkbox = ttk.Checkbutton(\n",
    "\t\t\toptions_frame, text='Alphabetize', variable=self.check_alphabetize\n",
    "\t\t\t)\n",
    "\t\tself.alphabetize_checkbox.grid(column=2, row=3, pady=5, padx=5, sticky=(W))\n",
    "\t\t\n",
    "\t\t#option - highlight vowels\n",
    "\t\t\n",
    "\t\t#option - no vowels\n",
    "\t\t\n",
    "\t\tself.output_text = Text(self.f2, height=1, width=39, relief='flat')\n",
    "\t\tself.output_text.config(state=DISABLED)\n",
    "\t\tself.output_text.tag_config('output', font='Helvetica', justify=CENTER, wrap=CHAR)\n",
    "\t\tself.output_text.grid(column=0, row=0, pady=5, padx=15)\n",
    "\t\t\n",
    "\tdef shuffle_letters(self):\n",
    "\t\n",
    "\t\tself.n.select(self.f2)\n",
    "\t\t\n",
    "\t\tshuffle_count = self.count.get()\n",
    "\t\tcaps_check = self.check_caps.get()\n",
    "\t\talphabetize_check = self.check_alphabetize.get()\n",
    "\t\n",
    "\t\tshuffled_letters_blank = []\n",
    "\t\tshuffled_letters = shuffled_letters_blank\n",
    "\t\t\n",
    "\t\tif shuffle_count == 0:\n",
    "\t\t\tshuffle_count = random.randint(1,20)\n",
    "\t\t\t\n",
    "\t\twhile shuffle_count > 0:\n",
    "\t\t\tshuffled_letters.append(random.choice(letter_distribution))\n",
    "\t\t\tshuffle_count -= 1\n",
    "\t\t\n",
    "\t\tif alphabetize_check == TRUE:\n",
    "\t\t\tshuffled_letters = sorted(shuffled_letters)\n",
    "\t\t\n",
    "\t\tshuffled_letters = ' '.join(shuffled_letters)\n",
    "\t\t\n",
    "\t\tif caps_check == TRUE:\n",
    "\t\t\tshuffled_letters = shuffled_letters.upper()\n",
    "\t\t\t\n",
    "\t\tself.output_text.config(state=NORMAL)\n",
    "\t\tself.output_text.delete(1.0, END)\n",
    "\t\tself.output_text.insert(END, shuffled_letters, 'output')\n",
    "\t\tself.output_text.config(state=DISABLED)\n",
    "\n",
    "root = Tk()\n",
    "\n",
    "root.title('Anagram Shuffler')\n",
    "\n",
    "root.option_add('*tearOff', FALSE)\n",
    "\n",
    "menubar = Menu(root)\n",
    "menu_help = Menu(menubar)\n",
    "menu_help.add_command(label='Help Contents')\n",
    "menu_help.add_command(label='About')\n",
    "menubar.add_cascade(label='?', menu=menu_help)\n",
    "\n",
    "root.config(menu=menubar)\n",
    "\n",
    "theme=ttk.Style()\n",
    "\n",
    "\n",
    "app = Anagram_Shuffler_App(root)\n",
    "\n",
    "root.mainloop()\n",
    "root.destroy()"
   ]
  },
  {
   "cell_type": "code",
   "execution_count": 18,
   "metadata": {
    "collapsed": false
   },
   "outputs": [
    {
     "data": {
      "text/plain": [
       "()"
      ]
     },
     "execution_count": 18,
     "metadata": {},
     "output_type": "execute_result"
    }
   ],
   "source": [
    "theme.element_options('Notebook.client')"
   ]
  },
  {
   "cell_type": "code",
   "execution_count": 33,
   "metadata": {
    "collapsed": false
   },
   "outputs": [
    {
     "data": {
      "text/plain": [
       "('winnative', 'clam', 'alt', 'default', 'classic', 'vista', 'xpnative')"
      ]
     },
     "execution_count": 33,
     "metadata": {},
     "output_type": "execute_result"
    }
   ],
   "source": [
    "theme.theme_names()"
   ]
  },
  {
   "cell_type": "code",
   "execution_count": 48,
   "metadata": {
    "collapsed": false
   },
   "outputs": [
    {
     "data": {
      "text/plain": [
       "[('Notebook.client', {'sticky': 'nswe'})]"
      ]
     },
     "execution_count": 48,
     "metadata": {},
     "output_type": "execute_result"
    }
   ],
   "source": [
    "theme.layout('TNotebook')"
   ]
  }
 ],
 "metadata": {
  "kernelspec": {
   "display_name": "Python 3",
   "language": "python",
   "name": "python3"
  },
  "language_info": {
   "codemirror_mode": {
    "name": "ipython",
    "version": 3
   },
   "file_extension": ".py",
   "mimetype": "text/x-python",
   "name": "python",
   "nbconvert_exporter": "python",
   "pygments_lexer": "ipython3",
   "version": "3.4.3"
  }
 },
 "nbformat": 4,
 "nbformat_minor": 0
}
